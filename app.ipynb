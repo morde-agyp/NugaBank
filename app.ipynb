{
 "cells": [
  {
   "cell_type": "code",
   "execution_count": 60,
   "id": "e6321657",
   "metadata": {},
   "outputs": [],
   "source": [
    "\n",
    "from pyspark.sql import SparkSession\n",
    "from pyspark.sql.functions import monotonically_increasing_id\n",
    "import pandas as pd \n",
    "from sqlalchemy import create_engine\n"
   ]
  },
  {
   "cell_type": "code",
   "execution_count": 61,
   "id": "7c6cbd53",
   "metadata": {},
   "outputs": [],
   "source": [
    "spark = SparkSession.builder.appName('NugaBankETL').getOrCreate()"
   ]
  },
  {
   "cell_type": "code",
   "execution_count": 62,
   "id": "31b87f3a",
   "metadata": {},
   "outputs": [
    {
     "data": {
      "text/html": [
       "\n",
       "            <div>\n",
       "                <p><b>SparkSession - in-memory</b></p>\n",
       "                \n",
       "        <div>\n",
       "            <p><b>SparkContext</b></p>\n",
       "\n",
       "            <p><a href=\"http://mac:4040\">Spark UI</a></p>\n",
       "\n",
       "            <dl>\n",
       "              <dt>Version</dt>\n",
       "                <dd><code>v3.5.6</code></dd>\n",
       "              <dt>Master</dt>\n",
       "                <dd><code>local[*]</code></dd>\n",
       "              <dt>AppName</dt>\n",
       "                <dd><code>NugaBankETL</code></dd>\n",
       "            </dl>\n",
       "        </div>\n",
       "        \n",
       "            </div>\n",
       "        "
      ],
      "text/plain": [
       "<pyspark.sql.session.SparkSession at 0x127b7f310>"
      ]
     },
     "execution_count": 62,
     "metadata": {},
     "output_type": "execute_result"
    }
   ],
   "source": [
    "spark"
   ]
  },
  {
   "cell_type": "code",
   "execution_count": 63,
   "id": "ed1fae8d",
   "metadata": {},
   "outputs": [
    {
     "name": "stderr",
     "output_type": "stream",
     "text": [
      "                                                                                \r"
     ]
    }
   ],
   "source": [
    "nuga_bank_df = spark.read.csv('./data/raw/nuga_bank_transactions.csv',header=True, inferSchema=True)"
   ]
  },
  {
   "cell_type": "code",
   "execution_count": 64,
   "id": "024f6f86",
   "metadata": {},
   "outputs": [
    {
     "name": "stdout",
     "output_type": "stream",
     "text": [
      "+--------------------+------+----------------+--------------+--------------------+------------------+--------------+--------------------+--------------------+--------------------+--------------------+-------------------+------------------+--------------------+-------------+-------------+--------+-----+---------+--------------------+--------------------+------+--------------+\n",
      "|    Transaction_Date|Amount|Transaction_Type| Customer_Name|    Customer_Address|     Customer_City|Customer_State|    Customer_Country|             Company|           Job_Title|               Email|       Phone_Number|Credit_Card_Number|                IBAN|Currency_Code|Random_Number|Category|Group|Is_Active|        Last_Updated|         Description|Gender|Marital_Status|\n",
      "+--------------------+------+----------------+--------------+--------------------+------------------+--------------+--------------------+--------------------+--------------------+--------------------+-------------------+------------------+--------------------+-------------+-------------+--------+-----+---------+--------------------+--------------------+------+--------------+\n",
      "|2024-03-23 15:38:...| 34.76|      Withdrawal|    James Neal|54912 Holmes Lodg...| West Keithborough|       Florida|                Togo|Benson, Johnson a...|                NULL|                NULL|  493.720.6609x7545|  3592901394693441|GB98RBPP090285271...|          MAD|       3167.0|       C|    Z|       No|2020-06-20 03:04:...|Yeah food anythin...| Other|      Divorced|\n",
      "|2024-04-22 19:15:...|163.92|      Withdrawal|   Thomas Long| 1133 Collin Passage|        Joshuabury|   Connecticut|Lao People's Demo...|                NULL|   Food technologist|michellelynch@exa...|      (497)554-3317|              NULL|GB03KFZR339662263...|          VEF|       2122.0|       B|    Z|     NULL|2020-12-27 13:23:...|Teach edge make n...|Female|       Married|\n",
      "|2024-04-12 19:46:...|386.32|      Withdrawal|Ashley Shelton|5297 Johnson Port...|       North Maria|    New Jersey|              Bhutan|       Jones-Mueller|Database administ...| ljordan@example.org|      (534)769-3072|      675983949974|GB59QYRN446730519...|          COP|       7796.0|       C|    Z|       No|2020-01-24 01:23:...|Again line face c...| Other|          NULL|\n",
      "|2024-04-17 15:29:...|407.15|         Deposit| James Rosario|56955 Moore Glens...|North Michellefurt|    New Mexico|             Iceland|       Vargas-Harris|Horticultural the...|parkerjames@examp...|+1-447-900-1320x257|     4761202519057|GB74FTDO268299438...|          BWP|       6284.0|       C|    Z|      Yes|2023-09-27 03:01:...|     Bag my a drive.|  NULL|          NULL|\n",
      "|2024-02-10 01:51:...|161.31|         Deposit|Miguel Leonard|262 Beck Expressw...|              NULL| West Virginia|             Eritrea|Richardson, Gonza...|   Minerals surveyor| zweaver@example.net|               NULL|   213156729655186|GB94EWRN587847592...|          SOS|       9179.0|       C|    Y|       No|2022-01-22 19:08:...|Husband find ok w...|Female|       Married|\n",
      "+--------------------+------+----------------+--------------+--------------------+------------------+--------------+--------------------+--------------------+--------------------+--------------------+-------------------+------------------+--------------------+-------------+-------------+--------+-----+---------+--------------------+--------------------+------+--------------+\n",
      "only showing top 5 rows\n",
      "\n"
     ]
    }
   ],
   "source": [
    "nuga_bank_df.show(5)"
   ]
  },
  {
   "cell_type": "code",
   "execution_count": 65,
   "id": "7c170b98",
   "metadata": {},
   "outputs": [
    {
     "name": "stdout",
     "output_type": "stream",
     "text": [
      "root\n",
      " |-- Transaction_Date: timestamp (nullable = true)\n",
      " |-- Amount: double (nullable = true)\n",
      " |-- Transaction_Type: string (nullable = true)\n",
      " |-- Customer_Name: string (nullable = true)\n",
      " |-- Customer_Address: string (nullable = true)\n",
      " |-- Customer_City: string (nullable = true)\n",
      " |-- Customer_State: string (nullable = true)\n",
      " |-- Customer_Country: string (nullable = true)\n",
      " |-- Company: string (nullable = true)\n",
      " |-- Job_Title: string (nullable = true)\n",
      " |-- Email: string (nullable = true)\n",
      " |-- Phone_Number: string (nullable = true)\n",
      " |-- Credit_Card_Number: long (nullable = true)\n",
      " |-- IBAN: string (nullable = true)\n",
      " |-- Currency_Code: string (nullable = true)\n",
      " |-- Random_Number: double (nullable = true)\n",
      " |-- Category: string (nullable = true)\n",
      " |-- Group: string (nullable = true)\n",
      " |-- Is_Active: string (nullable = true)\n",
      " |-- Last_Updated: timestamp (nullable = true)\n",
      " |-- Description: string (nullable = true)\n",
      " |-- Gender: string (nullable = true)\n",
      " |-- Marital_Status: string (nullable = true)\n",
      "\n"
     ]
    }
   ],
   "source": [
    "nuga_bank_df.printSchema()"
   ]
  },
  {
   "cell_type": "markdown",
   "id": "3d6e8f95",
   "metadata": {},
   "source": [
    "## DATA TRANSFORMATIOIN"
   ]
  },
  {
   "cell_type": "code",
   "execution_count": 66,
   "id": "d283ebe4",
   "metadata": {},
   "outputs": [
    {
     "data": {
      "text/plain": [
       "['Transaction_Date',\n",
       " 'Amount',\n",
       " 'Transaction_Type',\n",
       " 'Customer_Name',\n",
       " 'Customer_Address',\n",
       " 'Customer_City',\n",
       " 'Customer_State',\n",
       " 'Customer_Country',\n",
       " 'Company',\n",
       " 'Job_Title',\n",
       " 'Email',\n",
       " 'Phone_Number',\n",
       " 'Credit_Card_Number',\n",
       " 'IBAN',\n",
       " 'Currency_Code',\n",
       " 'Random_Number',\n",
       " 'Category',\n",
       " 'Group',\n",
       " 'Is_Active',\n",
       " 'Last_Updated',\n",
       " 'Description',\n",
       " 'Gender',\n",
       " 'Marital_Status']"
      ]
     },
     "execution_count": 66,
     "metadata": {},
     "output_type": "execute_result"
    }
   ],
   "source": [
    "nuga_bank_df.columns"
   ]
  },
  {
   "cell_type": "code",
   "execution_count": 67,
   "id": "a4045f5a",
   "metadata": {},
   "outputs": [
    {
     "data": {
      "text/plain": [
       "1000000"
      ]
     },
     "execution_count": 67,
     "metadata": {},
     "output_type": "execute_result"
    }
   ],
   "source": [
    "rows = nuga_bank_df.count()\n",
    "\n",
    "rows"
   ]
  },
  {
   "cell_type": "code",
   "execution_count": 68,
   "id": "29235661",
   "metadata": {},
   "outputs": [
    {
     "data": {
      "text/plain": [
       "23"
      ]
     },
     "execution_count": 68,
     "metadata": {},
     "output_type": "execute_result"
    }
   ],
   "source": [
    "cols = len(nuga_bank_df.columns)\n",
    "cols"
   ]
  },
  {
   "cell_type": "code",
   "execution_count": 69,
   "id": "397c797a",
   "metadata": {},
   "outputs": [
    {
     "name": "stderr",
     "output_type": "stream",
     "text": [
      "                                                                                \r"
     ]
    },
    {
     "name": "stdout",
     "output_type": "stream",
     "text": [
      "Transaction_Date Nulls 0\n",
      "Amount Nulls 0\n",
      "Transaction_Type Nulls 0\n",
      "Customer_Name Nulls 100425\n",
      "Customer_Address Nulls 100087\n",
      "Customer_City Nulls 100034\n",
      "Customer_State Nulls 100009\n",
      "Customer_Country Nulls 100672\n",
      "Company Nulls 100295\n",
      "Job_Title Nulls 99924\n",
      "Email Nulls 100043\n",
      "Phone_Number Nulls 100524\n",
      "Credit_Card_Number Nulls 100085\n",
      "IBAN Nulls 100300\n",
      "Currency_Code Nulls 99342\n",
      "Random_Number Nulls 99913\n",
      "Category Nulls 100332\n",
      "Group Nulls 100209\n",
      "Is_Active Nulls 100259\n"
     ]
    },
    {
     "name": "stderr",
     "output_type": "stream",
     "text": [
      "                                                                                \r"
     ]
    },
    {
     "name": "stdout",
     "output_type": "stream",
     "text": [
      "Last_Updated Nulls 100321\n",
      "Description Nulls 100403\n",
      "Gender Nulls 99767\n",
      "Marital_Status Nulls 99904\n"
     ]
    }
   ],
   "source": [
    "# checking for null values \n",
    "for column in nuga_bank_df.columns:\n",
    "    print(column, 'Nulls', nuga_bank_df.filter(nuga_bank_df[column].isNull()).count())"
   ]
  },
  {
   "cell_type": "code",
   "execution_count": 70,
   "id": "7b1edbbb",
   "metadata": {},
   "outputs": [],
   "source": [
    "# how to fill up missing values\n",
    "nuga_bank_df_clean = nuga_bank_df.fillna(\n",
    "    {'Customer_Name': 'Unkown',\n",
    "    'Customer_Address': 'Unkownn',\n",
    "    'Customer_City':'Unknown',\n",
    "    'Customer_State': 'Unknown',\n",
    "    \"Customer_Country\": 'Unknown',\n",
    "    'Company':'Unknown',\n",
    "    'Job_Title': 'Unknown',\n",
    "    'Email':'Unknown',\n",
    "    'Phone_Number': 'Unknown',\n",
    "    'Credit_Card_Number':0,\n",
    "    'IBAN':'Unknown',\n",
    "    'Currency_Code': 'Unknown',\n",
    "    'Random_Number': 0.0,\n",
    "    'Category': 'Unknown',\n",
    "    'Group':'Unknown',\n",
    "    'Is_Active':'Unknown',\n",
    "    'Description':'Unkown',\n",
    "    'Gender': 'Unknown',\n",
    "    'Marital_Status': 'Unknown',\n",
    "   \n",
    "    }\n",
    ")\n",
    "\n"
   ]
  },
  {
   "cell_type": "code",
   "execution_count": 71,
   "id": "ec4da773",
   "metadata": {},
   "outputs": [],
   "source": [
    "# Drop rows where last_updated is null\n",
    "nuga_bank_df_clean = nuga_bank_df_clean.na.drop(subset=['Last_Updated'])"
   ]
  },
  {
   "cell_type": "code",
   "execution_count": 72,
   "id": "ff711cb7",
   "metadata": {},
   "outputs": [
    {
     "name": "stderr",
     "output_type": "stream",
     "text": [
      "                                                                                \r"
     ]
    },
    {
     "name": "stdout",
     "output_type": "stream",
     "text": [
      "Transaction_Date Nulls 0\n",
      "Amount Nulls 0\n",
      "Transaction_Type Nulls 0\n",
      "Customer_Name Nulls 0\n",
      "Customer_Address Nulls 0\n",
      "Customer_City Nulls 0\n",
      "Customer_State Nulls 0\n",
      "Customer_Country Nulls 0\n",
      "Company Nulls 0\n",
      "Job_Title Nulls 0\n",
      "Email Nulls 0\n",
      "Phone_Number Nulls 0\n",
      "Credit_Card_Number Nulls 0\n",
      "IBAN Nulls 0\n",
      "Currency_Code Nulls 0\n",
      "Random_Number Nulls 0\n",
      "Category Nulls 0\n",
      "Group Nulls 0\n",
      "Is_Active Nulls 0\n"
     ]
    },
    {
     "name": "stderr",
     "output_type": "stream",
     "text": [
      "[Stage 401:>                                                      (0 + 11) / 11]\r"
     ]
    },
    {
     "name": "stdout",
     "output_type": "stream",
     "text": [
      "Last_Updated Nulls 0\n",
      "Description Nulls 0\n",
      "Gender Nulls 0\n",
      "Marital_Status Nulls 0\n"
     ]
    },
    {
     "name": "stderr",
     "output_type": "stream",
     "text": [
      "                                                                                \r"
     ]
    }
   ],
   "source": [
    "# checking for null values \n",
    "for column in nuga_bank_df.columns:\n",
    "    print(column, 'Nulls', nuga_bank_df_clean.filter(nuga_bank_df_clean[column].isNull()).count())"
   ]
  },
  {
   "cell_type": "code",
   "execution_count": 73,
   "id": "13945fd7",
   "metadata": {},
   "outputs": [
    {
     "name": "stderr",
     "output_type": "stream",
     "text": [
      "                                                                                \r"
     ]
    },
    {
     "data": {
      "text/plain": [
       "899679"
      ]
     },
     "execution_count": 73,
     "metadata": {},
     "output_type": "execute_result"
    }
   ],
   "source": [
    "nuga_bank_df_clean.count()"
   ]
  },
  {
   "cell_type": "code",
   "execution_count": 74,
   "id": "ec81614f",
   "metadata": {},
   "outputs": [
    {
     "name": "stderr",
     "output_type": "stream",
     "text": [
      "[Stage 413:=====>                                                 (1 + 10) / 11]\r"
     ]
    },
    {
     "name": "stdout",
     "output_type": "stream",
     "text": [
      "+-------+------------------+----------------+-------------+--------------------+-------------+--------------+----------------+-------------+------------------+-------------------+--------------------+--------------------+--------------------+-------------+-----------------+--------+-------+---------+--------------------+-------+--------------+\n",
      "|summary|            Amount|Transaction_Type|Customer_Name|    Customer_Address|Customer_City|Customer_State|Customer_Country|      Company|         Job_Title|              Email|        Phone_Number|  Credit_Card_Number|                IBAN|Currency_Code|    Random_Number|Category|  Group|Is_Active|         Description| Gender|Marital_Status|\n",
      "+-------+------------------+----------------+-------------+--------------------+-------------+--------------+----------------+-------------+------------------+-------------------+--------------------+--------------------+--------------------+-------------+-----------------+--------+-------+---------+--------------------+-------+--------------+\n",
      "|  count|            899679|          899679|       899679|              899679|       899679|        899679|          899679|       899679|            899679|             899679|              899679|              899679|              899679|       899679|           899679|  899679| 899679|   899679|              899679| 899679|        899679|\n",
      "|   mean| 505.1036770892746|            NULL|         NULL|                NULL|         NULL|          NULL|            NULL|         NULL|              NULL|               NULL| 6.002851385999521E9|3.409662226750517...|                NULL|         NULL|4952.920380491264|    NULL|   NULL|     NULL|                NULL|   NULL|          NULL|\n",
      "| stddev|285.79453433004676|            NULL|         NULL|                NULL|         NULL|          NULL|            NULL|         NULL|              NULL|               NULL|2.3068371038619413E9|1.189655005733002...|                NULL|         NULL|2966.543401151605|    NULL|   NULL|     NULL|                NULL|   NULL|          NULL|\n",
      "|    min|              10.0|         Deposit| Aaron Abbott|000 Aaron Landing...|    Aaronberg|       Alabama|     Afghanistan| Abbott Group|Academic librarian|            Unknown|       (200)201-4254|                   0|GB02AAAU191993009...|          AED|              0.0|       A|Unknown|       No|A American and to...| Female|      Divorced|\n",
      "|    max|            1000.0|      Withdrawal|    Zoe Young|             Unkownn|  Zunigaville|       Wyoming|        Zimbabwe|Zuniga-Wilson|      Youth worker|zzuniga@example.org|             Unknown| 4999984361512569455|             Unknown|          ZWD|           9999.0| Unknown|      Z|      Yes|Yourself young ev...|Unknown|       Unknown|\n",
      "+-------+------------------+----------------+-------------+--------------------+-------------+--------------+----------------+-------------+------------------+-------------------+--------------------+--------------------+--------------------+-------------+-----------------+--------+-------+---------+--------------------+-------+--------------+\n",
      "\n"
     ]
    },
    {
     "name": "stderr",
     "output_type": "stream",
     "text": [
      "                                                                                \r"
     ]
    }
   ],
   "source": [
    "# view the summary statistics of the data\n",
    "\n",
    "nuga_bank_df_clean.describe().show()"
   ]
  },
  {
   "cell_type": "code",
   "execution_count": 75,
   "id": "7c9edf48",
   "metadata": {},
   "outputs": [
    {
     "data": {
      "text/plain": [
       "['Transaction_Date',\n",
       " 'Amount',\n",
       " 'Transaction_Type',\n",
       " 'Customer_Name',\n",
       " 'Customer_Address',\n",
       " 'Customer_City',\n",
       " 'Customer_State',\n",
       " 'Customer_Country',\n",
       " 'Company',\n",
       " 'Job_Title',\n",
       " 'Email',\n",
       " 'Phone_Number',\n",
       " 'Credit_Card_Number',\n",
       " 'IBAN',\n",
       " 'Currency_Code',\n",
       " 'Random_Number',\n",
       " 'Category',\n",
       " 'Group',\n",
       " 'Is_Active',\n",
       " 'Last_Updated',\n",
       " 'Description',\n",
       " 'Gender',\n",
       " 'Marital_Status']"
      ]
     },
     "execution_count": 75,
     "metadata": {},
     "output_type": "execute_result"
    }
   ],
   "source": [
    "nuga_bank_df_clean.columns"
   ]
  },
  {
   "cell_type": "code",
   "execution_count": 76,
   "id": "7e690b79",
   "metadata": {},
   "outputs": [],
   "source": [
    "transaction = nuga_bank_df_clean.select('Transaction_Date','Amount','Transaction_Type').distinct()"
   ]
  },
  {
   "cell_type": "code",
   "execution_count": 77,
   "id": "2bd445e5",
   "metadata": {},
   "outputs": [],
   "source": [
    "# Adding the transaciton_id colujmn \n",
    "transaction = transaction.withColumn('transaction_id', monotonically_increasing_id())\n"
   ]
  },
  {
   "cell_type": "code",
   "execution_count": 78,
   "id": "c0f88f9f",
   "metadata": {},
   "outputs": [],
   "source": [
    "# reirderubg tge columns \n",
    "transaction = transaction.select('transaction_id','Transaction_Date','Amount','Transaction_Type')"
   ]
  },
  {
   "cell_type": "code",
   "execution_count": 79,
   "id": "f1813b54",
   "metadata": {},
   "outputs": [
    {
     "name": "stderr",
     "output_type": "stream",
     "text": [
      "[Stage 416:====================>                                   (4 + 7) / 11]\r"
     ]
    },
    {
     "name": "stdout",
     "output_type": "stream",
     "text": [
      "+--------------+--------------------+------+----------------+\n",
      "|transaction_id|    Transaction_Date|Amount|Transaction_Type|\n",
      "+--------------+--------------------+------+----------------+\n",
      "|             0|2024-01-10 22:13:...|169.64|         Deposit|\n",
      "|             1|2024-01-06 12:05:...|444.53|         Deposit|\n",
      "|             2|2024-01-09 02:32:...|976.36|        Transfer|\n",
      "|             3|2024-02-18 21:04:...|521.62|         Deposit|\n",
      "|             4|2024-04-11 13:35:...|416.11|         Deposit|\n",
      "|             5|2024-03-20 11:34:...|438.03|         Deposit|\n",
      "|             6|2024-04-29 10:42:...| 28.27|        Transfer|\n",
      "|             7|2024-02-12 15:48:...|657.39|         Deposit|\n",
      "|             8|2024-01-16 03:08:...|489.04|      Withdrawal|\n",
      "|             9|2024-04-27 01:11:...| 32.36|      Withdrawal|\n",
      "|            10|2024-04-13 04:39:...| 152.8|         Deposit|\n",
      "|            11|2024-02-07 20:31:...|736.03|      Withdrawal|\n",
      "|            12|2024-03-09 11:50:...|516.88|        Transfer|\n",
      "|            13|2024-01-22 16:12:...|615.23|         Deposit|\n",
      "|            14|2024-02-18 19:51:...|119.83|        Transfer|\n",
      "|            15|2024-04-15 10:58:...|630.29|         Deposit|\n",
      "|            16|2024-02-22 06:42:...|923.79|         Deposit|\n",
      "|            17|2024-04-22 06:27:...|832.71|      Withdrawal|\n",
      "|            18|2024-02-14 10:28:...| 73.65|        Transfer|\n",
      "|            19|2024-01-20 09:52:...| 850.8|      Withdrawal|\n",
      "+--------------+--------------------+------+----------------+\n",
      "only showing top 20 rows\n",
      "\n"
     ]
    },
    {
     "name": "stderr",
     "output_type": "stream",
     "text": [
      "                                                                                \r"
     ]
    }
   ],
   "source": [
    "transaction.show()"
   ]
  },
  {
   "cell_type": "code",
   "execution_count": 80,
   "id": "02f23c4e",
   "metadata": {},
   "outputs": [
    {
     "name": "stderr",
     "output_type": "stream",
     "text": [
      "[Stage 419:==========>                                             (2 + 9) / 11]\r"
     ]
    },
    {
     "name": "stdout",
     "output_type": "stream",
     "text": [
      "+-----------+------------------+--------------------+--------------------+--------------+--------------------+--------------------+--------------------+\n",
      "|Customer_id|     Customer_Name|    Customer_Address|       Customer_City|Customer_State|    Customer_Country|               Email|        Phone_Number|\n",
      "+-----------+------------------+--------------------+--------------------+--------------+--------------------+--------------------+--------------------+\n",
      "|          0|    Miguel Leonard|262 Beck Expressw...|             Unknown| West Virginia|             Eritrea| zweaver@example.net|             Unknown|\n",
      "|          1|    Michael Murphy|894 Williams Ridg...|       Dominguezview|      New York|              Sweden|kristinstanley@ex...|+1-693-739-2204x8851|\n",
      "|          2|      James Miller|             Unkownn|         South Tracy|       Arizona|           Nicaragua|alexanderbailey@e...|        971-987-0958|\n",
      "|          3|    Tina Gutierrez|    415 Taylor Knoll|           Donnastad|South Carolina|             Unknown|sarabrooks@exampl...|  623-933-0431x87174|\n",
      "|          4|      Kylie Adkins|    435 Nicole Curve|             Unknown|     Louisiana|             Unknown|davisronald@examp...|  (404)814-4457x1451|\n",
      "|          5|       Brian Glenn|505 Mcdowell Gard...|South Christinech...|  South Dakota|             Lesotho|bcabrera@example.net|001-962-928-1897x...|\n",
      "|          6|       Gary Archer| 0930 Michael Stream|            Boydport|North Carolina|Palestinian Terri...|kennethscott@exam...|       (713)965-2955|\n",
      "|          7|       Chase Smith|   156 Jeffrey Union|   Lake Nataliemouth|       Arizona|     North Macedonia|davidreeves@examp...|             Unknown|\n",
      "|          8|Mr. Gary Brooks II|   786 Mccarthy Fall|         Traceymouth|         Idaho|            Kiribati|ellislouis@exampl...|          8963308214|\n",
      "|          9|        Zoe Wilson|4575 Michael Harb...|        Alexanderton|        Alaska|           Venezuela|             Unknown|             Unknown|\n",
      "|         10|            Unkown|   894 Gomez Village|          Benderside|       Alabama|       New Caledonia|  xclark@example.net|+1-541-544-0215x7...|\n",
      "|         11|    Zachary Grimes|42686 Jessica Loc...|           Johnshire|      Virginia|             Tunisia|vanessa93@example...|       (464)800-5827|\n",
      "|         12| Jessica Zimmerman|    15565 Reed Wells|       East Johnland|       Florida|                Chad|awilliams@example...|  664.840.4619x25293|\n",
      "|         13|            Unkown|679 Jordan Field ...|           Kaylaland|       Florida|               Chile|martinezdavid@exa...|+1-344-891-7996x5196|\n",
      "|         14|     Tammy Simmons|997 Flores Locks ...|            Woodston|      Nebraska|                Oman| udecker@example.com|+1-853-249-6586x8571|\n",
      "|         15| Virginia Galloway|236 Harris Trail ...|       Lake Benjamin|      Michigan|United States of ...|   mross@example.com|   987.344.8192x3020|\n",
      "|         16|   Elizabeth Kline|  8389 Nicholson Run|           Jeffmouth|    Washington|             Liberia|matthewtaylor@exa...|    794-659-1946x128|\n",
      "|         17|            Unkown|  21795 Kelly Shoals|     New Rachaelfurt|   Connecticut|               Korea|  lfoley@example.org|          2098997863|\n",
      "|         18|     Matthew Costa|100 Crystal Gatew...|     Lake Leslieland|     Louisiana|         Timor-Leste|             Unknown|       (898)827-1111|\n",
      "|         19|      Lucas Farmer|41050 Tonya Prair...|  Lake Samanthamouth|         Texas|               Korea|tammymiles@exampl...|+1-807-815-2593x8534|\n",
      "+-----------+------------------+--------------------+--------------------+--------------+--------------------+--------------------+--------------------+\n",
      "only showing top 20 rows\n",
      "\n"
     ]
    },
    {
     "name": "stderr",
     "output_type": "stream",
     "text": [
      "                                                                                \r"
     ]
    }
   ],
   "source": [
    "customer = nuga_bank_df_clean.select('Customer_Name','Customer_Address','Customer_City','Customer_State','Customer_Country','Email','Phone_Number').distinct()\n",
    "\n",
    "# add id column \n",
    "customer = customer.withColumn('Customer_id',monotonically_increasing_id())\n",
    "\n",
    "customer = customer.select('Customer_id','Customer_Name','Customer_Address','Customer_City','Customer_State','Customer_Country','Email','Phone_Number')\n",
    "\n",
    "customer.show()"
   ]
  },
  {
   "cell_type": "code",
   "execution_count": 81,
   "id": "b1b85150",
   "metadata": {},
   "outputs": [
    {
     "name": "stderr",
     "output_type": "stream",
     "text": [
      "[Stage 422:===============>                                        (3 + 8) / 11]\r"
     ]
    },
    {
     "name": "stdout",
     "output_type": "stream",
     "text": [
      "+-----------+--------------------+--------------------+-------+--------------+\n",
      "|employee_id|             Company|           Job_Title| Gender|Marital_Status|\n",
      "+-----------+--------------------+--------------------+-------+--------------+\n",
      "|          0|         Price Group|             Unknown|   Male|        Single|\n",
      "|          1|Rhodes, King and ...| Trade mark attorney|   Male|       Unknown|\n",
      "|          2|Schmidt, Morgan a...|     Engineer, water| Female|        Single|\n",
      "|          3|       Johnson Group|  Forensic scientist|   Male|       Unknown|\n",
      "|          4|     Phillips-Prince|Production assist...|Unknown|        Single|\n",
      "|          5|      Henry and Sons|Engineer, civil (...| Female|       Married|\n",
      "|          6|Thompson, Johnson...|Exercise physiolo...|  Other|       Unknown|\n",
      "|          7|Hernandez, Johnso...|Forensic psycholo...|Unknown|      Divorced|\n",
      "|          8|Carrillo, Schwart...| Solicitor, Scotland| Female|        Single|\n",
      "|          9|         Olson-Lucas| Magazine journalist|   Male|      Divorced|\n",
      "|         10|        Baxter-Knapp|Designer, televis...| Female|       Unknown|\n",
      "|         11|             Unknown|Programme researc...| Female|      Divorced|\n",
      "|         12|    Newton-Schneider|             Unknown|  Other|      Divorced|\n",
      "|         13|      Suarez-Terrell|            Best boy| Female|      Divorced|\n",
      "|         14|         Stewart LLC|       Archaeologist|   Male|        Single|\n",
      "|         15|Bernard, Sutton a...|Museum/gallery co...|  Other|       Unknown|\n",
      "|         16|Summers, Thornton...|Volunteer coordin...|Unknown|        Single|\n",
      "|         17|     Mcneil-Guerrero|     Ophthalmologist|Unknown|      Divorced|\n",
      "|         18|       Collins-Clark|Producer, televis...| Female|      Divorced|\n",
      "|         19|Lewis, Navarro an...|             Unknown|   Male|        Single|\n",
      "+-----------+--------------------+--------------------+-------+--------------+\n",
      "only showing top 20 rows\n",
      "\n"
     ]
    },
    {
     "name": "stderr",
     "output_type": "stream",
     "text": [
      "                                                                                \r"
     ]
    }
   ],
   "source": [
    "employees = nuga_bank_df_clean.select('Company','Job_Title','Gender','Marital_Status').distinct()\n",
    "\n",
    "employees = employees.withColumn('employee_id', monotonically_increasing_id())\n",
    "\n",
    "employees = employees.select('employee_id','Company','Job_Title','Gender','Marital_Status')\n",
    "\n",
    "employees.show()"
   ]
  },
  {
   "cell_type": "code",
   "execution_count": 93,
   "id": "569a8920",
   "metadata": {},
   "outputs": [],
   "source": [
    "# fact-table \n",
    "\n",
    "\n",
    "fact_table = nuga_bank_df_clean.join(customer,['Customer_Name','Customer_Address','Customer_City','Customer_State','Customer_Country','Email','Phone_Number'], 'left') \\\n",
    "            .join(transaction,['Transaction_Date','Amount','Transaction_Type'],'left') \\\n",
    "            .join(employees,['Company','Job_Title','Gender','Marital_Status'], 'left') \\\n",
    "           "
   ]
  },
  {
   "cell_type": "code",
   "execution_count": 94,
   "id": "e3d0c991",
   "metadata": {},
   "outputs": [
    {
     "name": "stderr",
     "output_type": "stream",
     "text": [
      "[Stage 478:==========================================>             (9 + 3) / 12]\r"
     ]
    },
    {
     "name": "stdout",
     "output_type": "stream",
     "text": [
      "+--------------+-----------+-----------+-------------------+--------------------+-------------+-------------+--------+-----+---------+--------------------+--------------------+\n",
      "|transaction_id|employee_id|Customer_id| Credit_Card_Number|                IBAN|Currency_Code|Random_Number|Category|Group|Is_Active|        Last_Updated|         Description|\n",
      "+--------------+-----------+-----------+-------------------+--------------------+-------------+-------------+--------+-----+---------+--------------------+--------------------+\n",
      "|   17179881322|       8447|       7735|4622935083555889735|GB38NHWI142007006...|          EUR|       2210.0|       D|    Z|      Yes|2021-10-22 07:48:...|White might elect...|\n",
      "|   77309420823|       7297|77309423858|   6580934179272674|GB56IWIH341432913...|          TMT|       6120.0|       C|    X|       No|2023-03-18 15:44:...|World little ment...|\n",
      "|   85899417722|      54358|77309472004|    374741864551707|GB15NKUF545398325...|          MRO|       3522.0|       D|    Z|       No|2020-06-25 13:32:...|Us site road care...|\n",
      "|    8589982726|      44014|85899394062|     38526303203913|GB82WTYM803522789...|          CDF|       9647.0|       B|    X|       No|2021-09-23 20:52:...|Mind check concer...|\n",
      "|   77309461335|      43645|60129587126|4211098943832016441|GB72XSXE041758685...|          MDL|       8335.0|       D|    Z|      Yes|2023-10-21 17:38:...|              Unkown|\n",
      "|   77309471677|      56518|77309472396|   4905811524319082|GB03EEKE685121511...|          KRW|       8728.0|       C|    Y|      Yes|2020-08-23 01:19:...|Theory Mrs stand ...|\n",
      "|   77309423330|      11047|17179881487|   3507268046256074|GB75HNEK021615050...|          KPW|       1814.0|       D|    Y|      Yes|2021-01-05 03:56:...|Last subject foll...|\n",
      "|   25769808422|        401|       1258|    213186454811670|GB77SPMZ984195063...|          SOS|       7610.0|       C|    X|       No|2021-04-15 13:30:...|Concern remember ...|\n",
      "|   85899373101|      21468|34359767258|    379977471795734|GB72BNPK823099700...|          KWD|       4168.0|       D|    X|      Yes|2022-04-02 01:37:...|Those American sp...|\n",
      "|   25769850611|      44758|17179917037|   4351427249234586|GB02ZQLR180842867...|          PGK|       8177.0|       C|    X|       No|2021-01-03 15:14:...|Perform little an...|\n",
      "|   77309485062|      65382|42949743347|     30160491362204|GB98PAHS403370824...|          FKP|       5427.0|       D|    Z|       No|2023-01-22 21:01:...|Family religious ...|\n",
      "|   34359786519|      44013|17179915416|4424954860777736175|GB78XEEN874984971...|          TOP|       6468.0|       C|    Z|      Yes|2024-04-12 09:16:...|Sell out attentio...|\n",
      "|   25769838748|      30025|77309442675|   4895182692007111|GB96XYSV241174210...|          AFN|       3217.0|       A|    Y|      Yes|2020-07-08 12:24:...|Plan news importa...|\n",
      "|   51539617489|      11046|42949681517|      4868963548975|             Unknown|          GIP|       5047.0|       C|    X|       No|2023-10-30 23:10:...|Item reality mayb...|\n",
      "|         41971|      37448|60129582153|      4783860499273|GB67PEKN742055118...|          ERN|       9011.0|       D|    X|       No|2021-10-08 13:13:...|Other product cer...|\n",
      "|   60129612976|      61664|60129614849|       502018732722|GB62TPSB923228182...|          WST|       8729.0|       B|    Y|      Yes|2023-07-03 16:48:...|Sign long media w...|\n",
      "|   34359781459|      32051|85899383324|    180013965661163|GB03QHIK293878662...|          BMD|       6925.0|       D|    X|      Yes|2022-10-18 05:24:...|Page enjoy baby t...|\n",
      "|   85899383331|      28229|60129576325|                  0|GB62IOGH251160669...|          AUD|       4416.0|       B|    Z|      Yes|2024-04-20 02:17:...|Including traditi...|\n",
      "|   25769815519|       7296|42949683579|   6528005668821944|GB60MYCD219512370...|          SHP|       3471.0|       C|    Z|      Yes|2022-01-05 04:25:...|Question still tr...|\n",
      "|   42949689721|       3656| 8589948931|                  0|GB56AEYN564926526...|          TVD|       8324.0| Unknown|    Z|  Unknown|2024-02-26 04:04:...|While successful ...|\n",
      "+--------------+-----------+-----------+-------------------+--------------------+-------------+-------------+--------+-----+---------+--------------------+--------------------+\n",
      "only showing top 20 rows\n",
      "\n"
     ]
    },
    {
     "name": "stderr",
     "output_type": "stream",
     "text": [
      "                                                                                \r"
     ]
    }
   ],
   "source": [
    "# fact_table = fact_table.select('transaction_id','Customer_id','employee_id', 'Credit_Card_Number','IBAN','Currency_Code','Random_Number','Category','Group','Is_Active','Last_Updated','Description')\n",
    "\n",
    "fact_table = fact_table.select('transaction_id','employee_id','Customer_id','Credit_Card_Number','IBAN','Currency_Code','Random_Number','Category','Group','Is_Active','Last_Updated','Description')\n",
    "\n",
    "fact_table.show()"
   ]
  },
  {
   "cell_type": "code",
   "execution_count": null,
   "id": "3bc944a2",
   "metadata": {},
   "outputs": [
    {
     "name": "stderr",
     "output_type": "stream",
     "text": [
      "25/07/03 10:22:07 WARN MemoryManager: Total allocation exceeds 95.00% (986,683,789 bytes) of heap memory\n",
      "Scaling row group sizes to 91.89% for 8 writers\n",
      "25/07/03 10:22:07 WARN MemoryManager: Total allocation exceeds 95.00% (986,683,789 bytes) of heap memory\n",
      "Scaling row group sizes to 81.68% for 9 writers\n",
      "25/07/03 10:22:07 WARN MemoryManager: Total allocation exceeds 95.00% (986,683,789 bytes) of heap memory\n",
      "Scaling row group sizes to 73.51% for 10 writers\n",
      "25/07/03 10:22:07 WARN MemoryManager: Total allocation exceeds 95.00% (986,683,789 bytes) of heap memory\n",
      "Scaling row group sizes to 66.83% for 11 writers\n",
      "25/07/03 10:22:07 WARN MemoryManager: Total allocation exceeds 95.00% (986,683,789 bytes) of heap memory\n",
      "Scaling row group sizes to 73.51% for 10 writers\n",
      "25/07/03 10:22:07 WARN MemoryManager: Total allocation exceeds 95.00% (986,683,789 bytes) of heap memory\n",
      "Scaling row group sizes to 81.68% for 9 writers\n",
      "25/07/03 10:22:07 WARN MemoryManager: Total allocation exceeds 95.00% (986,683,789 bytes) of heap memory\n",
      "Scaling row group sizes to 91.89% for 8 writers\n",
      "25/07/03 10:22:11 WARN MemoryManager: Total allocation exceeds 95.00% (986,683,789 bytes) of heap memory\n",
      "Scaling row group sizes to 91.89% for 8 writers\n",
      "25/07/03 10:22:11 WARN MemoryManager: Total allocation exceeds 95.00% (986,683,789 bytes) of heap memory\n",
      "Scaling row group sizes to 81.68% for 9 writers\n",
      "25/07/03 10:22:11 WARN MemoryManager: Total allocation exceeds 95.00% (986,683,789 bytes) of heap memory\n",
      "Scaling row group sizes to 73.51% for 10 writers\n",
      "25/07/03 10:22:11 WARN MemoryManager: Total allocation exceeds 95.00% (986,683,789 bytes) of heap memory\n",
      "Scaling row group sizes to 66.83% for 11 writers\n",
      "25/07/03 10:22:11 WARN MemoryManager: Total allocation exceeds 95.00% (986,683,789 bytes) of heap memory\n",
      "Scaling row group sizes to 73.51% for 10 writers\n",
      "25/07/03 10:22:11 WARN MemoryManager: Total allocation exceeds 95.00% (986,683,789 bytes) of heap memory\n",
      "Scaling row group sizes to 81.68% for 9 writers\n",
      "25/07/03 10:22:11 WARN MemoryManager: Total allocation exceeds 95.00% (986,683,789 bytes) of heap memory\n",
      "Scaling row group sizes to 91.89% for 8 writers\n",
      "25/07/03 10:22:16 WARN MemoryManager: Total allocation exceeds 95.00% (986,683,789 bytes) of heap memory\n",
      "Scaling row group sizes to 91.89% for 8 writers\n",
      "25/07/03 10:22:16 WARN MemoryManager: Total allocation exceeds 95.00% (986,683,789 bytes) of heap memory\n",
      "Scaling row group sizes to 81.68% for 9 writers\n",
      "25/07/03 10:22:16 WARN MemoryManager: Total allocation exceeds 95.00% (986,683,789 bytes) of heap memory\n",
      "Scaling row group sizes to 73.51% for 10 writers\n",
      "25/07/03 10:22:16 WARN MemoryManager: Total allocation exceeds 95.00% (986,683,789 bytes) of heap memory\n",
      "Scaling row group sizes to 66.83% for 11 writers\n",
      "25/07/03 10:22:16 WARN MemoryManager: Total allocation exceeds 95.00% (986,683,789 bytes) of heap memory\n",
      "Scaling row group sizes to 73.51% for 10 writers\n",
      "25/07/03 10:22:16 WARN MemoryManager: Total allocation exceeds 95.00% (986,683,789 bytes) of heap memory\n",
      "Scaling row group sizes to 81.68% for 9 writers\n",
      "25/07/03 10:22:16 WARN MemoryManager: Total allocation exceeds 95.00% (986,683,789 bytes) of heap memory\n",
      "Scaling row group sizes to 91.89% for 8 writers\n",
      "25/07/03 10:22:39 WARN RowBasedKeyValueBatch: Calling spill() on RowBasedKeyValueBatch. Will not spill but return 0.\n",
      "25/07/03 10:22:39 WARN RowBasedKeyValueBatch: Calling spill() on RowBasedKeyValueBatch. Will not spill but return 0.\n",
      "25/07/03 10:22:39 WARN RowBasedKeyValueBatch: Calling spill() on RowBasedKeyValueBatch. Will not spill but return 0.\n",
      "25/07/03 10:22:39 WARN RowBasedKeyValueBatch: Calling spill() on RowBasedKeyValueBatch. Will not spill but return 0.\n",
      "25/07/03 10:22:39 WARN RowBasedKeyValueBatch: Calling spill() on RowBasedKeyValueBatch. Will not spill but return 0.\n",
      "25/07/03 10:22:39 WARN RowBasedKeyValueBatch: Calling spill() on RowBasedKeyValueBatch. Will not spill but return 0.\n",
      "25/07/03 10:22:39 WARN RowBasedKeyValueBatch: Calling spill() on RowBasedKeyValueBatch. Will not spill but return 0.\n",
      "25/07/03 10:22:39 WARN RowBasedKeyValueBatch: Calling spill() on RowBasedKeyValueBatch. Will not spill but return 0.\n",
      "25/07/03 10:22:39 WARN RowBasedKeyValueBatch: Calling spill() on RowBasedKeyValueBatch. Will not spill but return 0.\n",
      "25/07/03 10:22:39 WARN RowBasedKeyValueBatch: Calling spill() on RowBasedKeyValueBatch. Will not spill but return 0.\n",
      "25/07/03 10:22:39 WARN RowBasedKeyValueBatch: Calling spill() on RowBasedKeyValueBatch. Will not spill but return 0.\n",
      "25/07/03 10:22:40 WARN MemoryManager: Total allocation exceeds 95.00% (986,683,789 bytes) of heap memory\n",
      "Scaling row group sizes to 91.89% for 8 writers\n",
      "25/07/03 10:22:40 WARN MemoryManager: Total allocation exceeds 95.00% (986,683,789 bytes) of heap memory\n",
      "Scaling row group sizes to 81.68% for 9 writers\n",
      "25/07/03 10:22:40 WARN MemoryManager: Total allocation exceeds 95.00% (986,683,789 bytes) of heap memory\n",
      "Scaling row group sizes to 73.51% for 10 writers\n",
      "25/07/03 10:22:40 WARN MemoryManager: Total allocation exceeds 95.00% (986,683,789 bytes) of heap memory\n",
      "Scaling row group sizes to 66.83% for 11 writers\n",
      "25/07/03 10:22:41 WARN MemoryManager: Total allocation exceeds 95.00% (986,683,789 bytes) of heap memory\n",
      "Scaling row group sizes to 73.51% for 10 writers\n",
      "25/07/03 10:22:41 WARN MemoryManager: Total allocation exceeds 95.00% (986,683,789 bytes) of heap memory\n",
      "Scaling row group sizes to 81.68% for 9 writers\n",
      "25/07/03 10:22:41 WARN MemoryManager: Total allocation exceeds 95.00% (986,683,789 bytes) of heap memory\n",
      "Scaling row group sizes to 73.51% for 10 writers\n",
      "25/07/03 10:22:41 WARN MemoryManager: Total allocation exceeds 95.00% (986,683,789 bytes) of heap memory\n",
      "Scaling row group sizes to 81.68% for 9 writers\n",
      "25/07/03 10:22:41 WARN MemoryManager: Total allocation exceeds 95.00% (986,683,789 bytes) of heap memory\n",
      "Scaling row group sizes to 91.89% for 8 writers\n",
      "                                                                                \r"
     ]
    }
   ],
   "source": [
    "# output the cleaned data to parquet\n",
    "# uses columnar package whcih is smaller and easier.\n",
    "import os \n",
    "\n",
    "\n",
    "\n",
    "# transaction.write.mode('overwrite').parquet(os.path.join('./data/processed','transaction'))\n",
    "# customer.write.mode('overwrite').parquet(os.path.join('./data/processed','customer'))\n",
    "# employees.write.mode('overwrite').parquet(os.path.join('./data/processed','employee'))\n",
    "# fact_table.write.mode('overwrite').parquet(os.path.join('./data/processed','fact_table'))"
   ]
  },
  {
   "cell_type": "markdown",
   "id": "28e024ad",
   "metadata": {},
   "source": []
  },
  {
   "cell_type": "code",
   "execution_count": 97,
   "id": "95cc4afe",
   "metadata": {},
   "outputs": [
    {
     "name": "stderr",
     "output_type": "stream",
     "text": [
      "25/07/03 10:28:44 WARN RowBasedKeyValueBatch: Calling spill() on RowBasedKeyValueBatch. Will not spill but return 0.\n",
      "25/07/03 10:28:44 WARN RowBasedKeyValueBatch: Calling spill() on RowBasedKeyValueBatch. Will not spill but return 0.\n",
      "25/07/03 10:28:44 WARN RowBasedKeyValueBatch: Calling spill() on RowBasedKeyValueBatch. Will not spill but return 0.\n",
      "25/07/03 10:28:44 WARN RowBasedKeyValueBatch: Calling spill() on RowBasedKeyValueBatch. Will not spill but return 0.\n",
      "25/07/03 10:28:44 WARN RowBasedKeyValueBatch: Calling spill() on RowBasedKeyValueBatch. Will not spill but return 0.\n",
      "25/07/03 10:28:44 WARN RowBasedKeyValueBatch: Calling spill() on RowBasedKeyValueBatch. Will not spill but return 0.\n",
      "25/07/03 10:28:44 WARN RowBasedKeyValueBatch: Calling spill() on RowBasedKeyValueBatch. Will not spill but return 0.\n",
      "25/07/03 10:28:44 WARN RowBasedKeyValueBatch: Calling spill() on RowBasedKeyValueBatch. Will not spill but return 0.\n",
      "25/07/03 10:28:44 WARN RowBasedKeyValueBatch: Calling spill() on RowBasedKeyValueBatch. Will not spill but return 0.\n",
      "25/07/03 10:28:44 WARN RowBasedKeyValueBatch: Calling spill() on RowBasedKeyValueBatch. Will not spill but return 0.\n",
      "25/07/03 10:28:44 WARN RowBasedKeyValueBatch: Calling spill() on RowBasedKeyValueBatch. Will not spill but return 0.\n",
      "                                                                                \r"
     ]
    }
   ],
   "source": [
    "# to csv\n",
    "\n",
    "transaction.repartition(3).write.mode('overwrite').option('header','True').csv(os.path.join('./data/csv','transaction'))\n",
    "customer.repartition(3).write.mode('overwrite').option('header','True').csv(os.path.join('./data/csv','customer'))\n",
    "employees.repartition(3).write.mode('overwrite').option('header','True').csv(os.path.join('./data/csv','employee'))\n",
    "fact_table.repartition(3).write.mode('overwrite').option('header','True').csv(os.path.join('./data/csv','fact_table'))"
   ]
  },
  {
   "cell_type": "code",
   "execution_count": null,
   "id": "ab75ebc6",
   "metadata": {},
   "outputs": [],
   "source": []
  }
 ],
 "metadata": {
  "kernelspec": {
   "display_name": "venv",
   "language": "python",
   "name": "python3"
  },
  "language_info": {
   "codemirror_mode": {
    "name": "ipython",
    "version": 3
   },
   "file_extension": ".py",
   "mimetype": "text/x-python",
   "name": "python",
   "nbconvert_exporter": "python",
   "pygments_lexer": "ipython3",
   "version": "3.8.20"
  }
 },
 "nbformat": 4,
 "nbformat_minor": 5
}
